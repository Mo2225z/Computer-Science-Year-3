{
 "cells": [
  {
   "cell_type": "markdown",
   "metadata": {
    "id": "vq0em9vD-gHc"
   },
   "source": [
    "## **Introduction to MNIST Dataset and Classification Problem**\n",
    "The MNIST dataset is a widely used collection of handwritten digits , commonly used as bench in the field of computer vision, it consists of training set of  60,000  grayscale images of handwritten digits , each dipicting the single digit from 0-9, test set contains 10,000 images. images are vectors of size 28x28 pixels, each pixel value represents the intensity of pixel ranging from 0-255.  \n",
    "**Classification Problem:**\n",
    "The MNIST classification problems involves developng a model which learns from the existing data and can predict any digit given as a grayscale image. this falls in the realm of supervised machine learning.\n",
    "\n",
    "\n",
    "\n"
   ]
  },
  {
   "cell_type": "markdown",
   "metadata": {
    "id": "j5JnQZRHCzZH"
   },
   "source": [
    "## **Methodology**\n",
    "Solving the MNIST classification problem require to follow a standard machine learning methodology which includes the data explorartion , cleaning, transformations model implementation and results evaluation each one is discussed here.\n",
    "### 1. **Dataset Loading and Exploration**\n",
    "- Dataset loading from tensorflow\n",
    "- Data exploration to understand the dimensions of the data , number of\n",
    "samples,  class distribution\n",
    "\n",
    "#### 2. **Data Preprocessing**\n",
    "- This step includes the conversion of the pixel values, Normalization is done to scale the pixels from (0-255) to (0-1) ranges, this helps model converge faster.\n",
    "- Neural network models take specified shape of the data so flatten operation is performed to make the images suitable for feeding to the neural network.\n",
    "- One hot encoding on the labels is performed which converts each label into 10 dimensional verctor\n",
    "\n",
    "\n",
    "### 3. **Model Architecture**:\n",
    "- Desing neural network architecture , start with a baseline model less dense\n",
    "- choose layers, nodes, assign input and ouput dimesions,\n",
    "- select an activation function\n",
    "- add dropout layers\n",
    "\n",
    "### 4. **Model Compilation**:\n",
    "- Choose an Optimizer: optimizers are the functions used to train the model for optimal parameters, coomon optimizer includes, 'adam', 'sgd'.\n",
    "- choose loss function: in case of one hot encoded labels 'categorical_crossentropy'  is suitable\n",
    "- Evaluation Metrics: evaluation metrics reports the result after each iteration, accuracy will be used as evaluation metrics.\n",
    "\n",
    "\n",
    "### 5. **Model Training:**\n",
    "   - Train the model using the training set.\n",
    "   - Monitor training/validation loss and accuracy to identify potential overfitting or underfitting.\n",
    "   - Experiment with hyperparameters like the number of epochs and batch size.\n",
    "\n",
    "### 6. **Hyperparameter Tuning:**\n",
    "   - Identify hyperparameters to tune, such as learning rate, dropout rate, or layer dimensions.\n",
    "   - Conduct experiments with different hyperparameter values, utilizing techniques like grid search or random search.\n",
    "\n",
    "### 7. **Model Evaluation:**\n",
    "   - Evaluate the trained model on the test set to assess its generalization performance.\n",
    "   - Examine metrics like accuracy, precision, recall, and confusion matrix.\n",
    "\n",
    "### 8. **Results and Analysis:**\n",
    "   - Summarize key findings and performance metrics.\n",
    "   - Analyze any observed trends, challenges, or improvements needed.\n",
    "\n",
    "### 9. **Conclusion:**\n",
    "   - Provide a brief conclusion summarizing the overall process and outcomes.\n",
    "   - Reflect on the effectiveness of the chosen model architecture and hyperparameters.\n",
    "\n"
   ]
  },
  {
   "cell_type": "markdown",
   "metadata": {
    "id": "4KOdkg4lLnB3"
   },
   "source": [
    "### **Implementing The methodology**\n",
    "#### 1. Data Loading and Exploration"
   ]
  },
  {
   "cell_type": "code",
   "execution_count": 1,
   "metadata": {
    "id": "Y-pVzmVB7zjv"
   },
   "outputs": [
    {
     "name": "stdout",
     "output_type": "stream",
     "text": [
      "WARNING:tensorflow:From C:\\Users\\MoAbd\\anaconda3\\envs\\AI2022\\lib\\site-packages\\keras\\src\\losses.py:2976: The name tf.losses.sparse_softmax_cross_entropy is deprecated. Please use tf.compat.v1.losses.sparse_softmax_cross_entropy instead.\n",
      "\n"
     ]
    }
   ],
   "source": [
    "# import necessary libraraies\n",
    "import numpy as np\n",
    "import matplotlib.pyplot as plt\n",
    "import tensorflow\n",
    "from tensorflow.keras import models, layers\n",
    "from tensorflow.keras.datasets import mnist\n",
    "from tensorflow.keras.utils import to_categorical"
   ]
  },
  {
   "cell_type": "code",
   "execution_count": 2,
   "metadata": {
    "colab": {
     "base_uri": "https://localhost:8080/",
     "height": 412
    },
    "id": "2Ar5yaSD-fLA",
    "outputId": "f086ec64-b56d-454e-9d0d-bd2c200661b9"
   },
   "outputs": [
    {
     "data": {
      "image/png": "[encoded data removed]",
      "text/plain": [
       "<Figure size 800x500 with 10 Axes>"
      ]
     },
     "metadata": {},
     "output_type": "display_data"
    }
   ],
   "source": [
    "# Load MNIST dataset\n",
    "(train_images, train_labels), (test_images, test_labels) = mnist.load_data()\n",
    "# Plot sample images\n",
    "plt.figure(figsize=(8, 5))\n",
    "for i in range(10):  # Plot the first 10 images\n",
    "    plt.subplot(2, 5, i + 1)\n",
    "    plt.imshow(train_images[i], cmap='gray')\n",
    "    plt.title(f\"Label: {train_labels[i]}\")\n",
    "    plt.axis('off')\n",
    "\n",
    "plt.show()"
   ]
  },
  {
   "cell_type": "markdown",
   "metadata": {
    "id": "bMUatK5pL8jb"
   },
   "source": [
    "#### 2. Data Preprocessing"
   ]
  },
  {
   "cell_type": "code",
   "execution_count": 3,
   "metadata": {
    "colab": {
     "base_uri": "https://localhost:8080/"
    },
    "id": "dqocQ3tlL5vb",
    "outputId": "dca28e07-2111-43d8-93b7-594792812d80"
   },
   "outputs": [
    {
     "name": "stdout",
     "output_type": "stream",
     "text": [
      "train images shape (60000, 784)\n",
      "train labels shape (60000, 10)\n"
     ]
    }
   ],
   "source": [
    "# Data preprocessing\n",
    "# flatten and change the pixel into 0-1 scale\n",
    "train_images = train_images.reshape((60000, 28 * 28)).astype('float32') / 255\n",
    "test_images = test_images.reshape((10000, 28 * 28)).astype('float32') / 255\n",
    "\n",
    "train_labels = to_categorical(train_labels)\n",
    "test_labels = to_categorical(test_labels)\n",
    "print('train images shape',train_images.shape)\n",
    "print('train labels shape',train_labels.shape)"
   ]
  },
  {
   "cell_type": "markdown",
   "metadata": {
    "id": "OplVGRWWMt2a"
   },
   "source": [
    "### 3. Model Architecture (Developing a Base Model)\n",
    "A Base Line Model with small layer network, less hidden units as a baseline model to observe the results.\n",
    "- Model Compilation\n",
    "- model training\n",
    "- Model Evaluation"
   ]
  },
  {
   "cell_type": "code",
   "execution_count": 4,
   "metadata": {
    "colab": {
     "base_uri": "https://localhost:8080/"
    },
    "id": "A4M98ctMMsXF",
    "outputId": "9f89cfb1-bb94-4f44-ccb1-f714e33a23c1"
   },
   "outputs": [
    {
     "name": "stdout",
     "output_type": "stream",
     "text": [
      "WARNING:tensorflow:From C:\\Users\\MoAbd\\anaconda3\\envs\\AI2022\\lib\\site-packages\\keras\\src\\backend.py:873: The name tf.get_default_graph is deprecated. Please use tf.compat.v1.get_default_graph instead.\n",
      "\n",
      "WARNING:tensorflow:From C:\\Users\\MoAbd\\anaconda3\\envs\\AI2022\\lib\\site-packages\\keras\\src\\optimizers\\__init__.py:309: The name tf.train.Optimizer is deprecated. Please use tf.compat.v1.train.Optimizer instead.\n",
      "\n",
      "Epoch 1/10\n",
      "WARNING:tensorflow:From C:\\Users\\MoAbd\\anaconda3\\envs\\AI2022\\lib\\site-packages\\keras\\src\\utils\\tf_utils.py:492: The name tf.ragged.RaggedTensorValue is deprecated. Please use tf.compat.v1.ragged.RaggedTensorValue instead.\n",
      "\n",
      "WARNING:tensorflow:From C:\\Users\\MoAbd\\anaconda3\\envs\\AI2022\\lib\\site-packages\\keras\\src\\engine\\base_layer_utils.py:384: The name tf.executing_eagerly_outside_functions is deprecated. Please use tf.compat.v1.executing_eagerly_outside_functions instead.\n",
      "\n",
      "375/375 [==============================] - 1s 2ms/step - loss: 2.2762 - accuracy: 0.1804 - val_loss: 1.8959 - val_accuracy: 0.6546\n",
      "Epoch 2/10\n",
      "375/375 [==============================] - 1s 2ms/step - loss: 1.9064 - accuracy: 0.3510 - val_loss: 1.6027 - val_accuracy: 0.7290\n",
      "Epoch 3/10\n",
      "375/375 [==============================] - 1s 2ms/step - loss: 1.6543 - accuracy: 0.4700 - val_loss: 1.3675 - val_accuracy: 0.7766\n",
      "Epoch 4/10\n",
      "375/375 [==============================] - 1s 2ms/step - loss: 1.4573 - accuracy: 0.5465 - val_loss: 1.1828 - val_accuracy: 0.8002\n",
      "Epoch 5/10\n",
      "375/375 [==============================] - 1s 2ms/step - loss: 1.3056 - accuracy: 0.5982 - val_loss: 1.0413 - val_accuracy: 0.8194\n",
      "Epoch 6/10\n",
      "375/375 [==============================] - 1s 2ms/step - loss: 1.1902 - accuracy: 0.6352 - val_loss: 0.9329 - val_accuracy: 0.8336\n",
      "Epoch 7/10\n",
      "375/375 [==============================] - 1s 2ms/step - loss: 1.1020 - accuracy: 0.6608 - val_loss: 0.8501 - val_accuracy: 0.8404\n",
      "Epoch 8/10\n",
      "375/375 [==============================] - 1s 2ms/step - loss: 1.0289 - accuracy: 0.6839 - val_loss: 0.7845 - val_accuracy: 0.8461\n",
      "Epoch 9/10\n",
      "375/375 [==============================] - 1s 2ms/step - loss: 0.9753 - accuracy: 0.6989 - val_loss: 0.7326 - val_accuracy: 0.8530\n",
      "Epoch 10/10\n",
      "375/375 [==============================] - 1s 2ms/step - loss: 0.9250 - accuracy: 0.7162 - val_loss: 0.6894 - val_accuracy: 0.8567\n"
     ]
    }
   ],
   "source": [
    "# define the model arctitecture\n",
    "model= models.Sequential()\n",
    "model.add(layers.Dense(100,activation='sigmoid',input_shape=(28*28,)))\n",
    "model.add(layers.Dropout(0.5))\n",
    "model.add(layers.Dense(10, activation='softmax'))\n",
    "# Model Compilation\n",
    "model.compile(optimizer='sgd',\n",
    "              loss='categorical_crossentropy',\n",
    "              metrics=['accuracy'])\n",
    "# Model Training\n",
    "history = model.fit(train_images, train_labels, epochs=10, batch_size=128, validation_split=0.2)\n"
   ]
  },
  {
   "cell_type": "markdown",
   "metadata": {
    "id": "tvw1HoQpS6e7"
   },
   "source": [
    "## Evaluation of results:\n"
   ]
  },
  {
   "cell_type": "code",
   "execution_count": 5,
   "metadata": {
    "colab": {
     "base_uri": "https://localhost:8080/",
     "height": 407
    },
    "id": "6gtuu6AlVhlO",
    "outputId": "45266df1-df77-43ce-ec3a-dddaf33b21f0"
   },
   "outputs": [
    {
     "data": {
      "image/png": "[encoded data removed]",
      "text/plain": [
       "<Figure size 1200x400 with 2 Axes>"
      ]
     },
     "metadata": {},
     "output_type": "display_data"
    }
   ],
   "source": [
    "import matplotlib.pyplot as plt\n",
    "\n",
    "def plot_training_history(history):\n",
    "    # Extract training history\n",
    "    train_loss = history.history['loss']\n",
    "    val_loss = history.history['val_loss']\n",
    "    train_acc = history.history['accuracy']\n",
    "    val_acc = history.history['val_accuracy']\n",
    "\n",
    "    # Plotting the training and validation loss\n",
    "    plt.figure(figsize=(12, 4))\n",
    "    plt.subplot(1, 2, 1)\n",
    "    plt.plot(range(1, len(train_loss) + 1), train_loss, label='Training Loss')\n",
    "    plt.plot(range(1, len(val_loss) + 1), val_loss, label='Validation Loss')\n",
    "    plt.title('Training and Validation Loss')\n",
    "    plt.xlabel('Epoch')\n",
    "    plt.ylabel('Loss')\n",
    "    plt.legend()\n",
    "\n",
    "    # Plotting the training and validation accuracy\n",
    "    plt.subplot(1, 2, 2)\n",
    "    plt.plot(range(1, len(train_acc) + 1), train_acc, label='Training Accuracy')\n",
    "    plt.plot(range(1, len(val_acc) + 1), val_acc, label='Validation Accuracy')\n",
    "    plt.title('Training and Validation Accuracy')\n",
    "    plt.xlabel('Epoch')\n",
    "    plt.ylabel('Accuracy')\n",
    "    plt.legend()\n",
    "\n",
    "    plt.tight_layout()\n",
    "    plt.show()\n",
    "\n",
    "# Usage\n",
    "plot_training_history(history)\n"
   ]
  },
  {
   "cell_type": "code",
   "execution_count": 6,
   "metadata": {
    "colab": {
     "base_uri": "https://localhost:8080/",
     "height": 909
    },
    "id": "c_wFSy0BUfSk",
    "outputId": "5306226a-53db-438d-bfc4-a6e75a714cdb"
   },
   "outputs": [
    {
     "ename": "ModuleNotFoundError",
     "evalue": "No module named 'seaborn'",
     "output_type": "error",
     "traceback": [
      "\u001b[1;31m---------------------------------------------------------------------------\u001b[0m",
      "\u001b[1;31mModuleNotFoundError\u001b[0m                       Traceback (most recent call last)",
      "Cell \u001b[1;32mIn[6], line 2\u001b[0m\n\u001b[0;32m      1\u001b[0m \u001b[38;5;28;01mfrom\u001b[39;00m \u001b[38;5;21;01msklearn\u001b[39;00m\u001b[38;5;21;01m.\u001b[39;00m\u001b[38;5;21;01mmetrics\u001b[39;00m \u001b[38;5;28;01mimport\u001b[39;00m confusion_matrix, classification_report\n\u001b[1;32m----> 2\u001b[0m \u001b[38;5;28;01mimport\u001b[39;00m \u001b[38;5;21;01mseaborn\u001b[39;00m \u001b[38;5;28;01mas\u001b[39;00m \u001b[38;5;21;01msns\u001b[39;00m\n\u001b[0;32m      3\u001b[0m \u001b[38;5;28;01mimport\u001b[39;00m \u001b[38;5;21;01mmatplotlib\u001b[39;00m\u001b[38;5;21;01m.\u001b[39;00m\u001b[38;5;21;01mpyplot\u001b[39;00m \u001b[38;5;28;01mas\u001b[39;00m \u001b[38;5;21;01mplt\u001b[39;00m\n\u001b[0;32m      5\u001b[0m \u001b[38;5;28;01mdef\u001b[39;00m \u001b[38;5;21mevaluate_model\u001b[39m(model, test_images, test_labels):\n\u001b[0;32m      6\u001b[0m     \u001b[38;5;66;03m# Predictions on test set\u001b[39;00m\n",
      "\u001b[1;31mModuleNotFoundError\u001b[0m: No module named 'seaborn'"
     ]
    }
   ],
   "source": [
    "from sklearn.metrics import confusion_matrix, classification_report\n",
    "import seaborn as sns\n",
    "import matplotlib.pyplot as plt\n",
    "\n",
    "def evaluate_model(model, test_images, test_labels):\n",
    "    # Predictions on test set\n",
    "    predictions = model.predict(test_images)\n",
    "    y_pred = np.argmax(predictions, axis=1)\n",
    "    y_true = np.argmax(test_labels, axis=1)\n",
    "\n",
    "    # Confusion Matrix\n",
    "    cm = confusion_matrix(y_true, y_pred)\n",
    "\n",
    "    # Classification Report\n",
    "    report = classification_report(y_true, y_pred, target_names=[str(i) for i in range(10)])\n",
    "\n",
    "    # Display confusion matrix\n",
    "    plt.figure(figsize=(8, 6))\n",
    "    sns.heatmap(cm, annot=True, fmt='d', cmap='Blues', xticklabels=range(10), yticklabels=range(10))\n",
    "    plt.title('Confusion Matrix')\n",
    "    plt.xlabel('Predicted')\n",
    "    plt.ylabel('True')\n",
    "    plt.show()\n",
    "\n",
    "    # Display classification report\n",
    "    print(\"Classification Report:\\n\", report)\n",
    "\n",
    "# Use the function to evaluate the model\n",
    "evaluate_model(model, test_images, test_labels)\n"
   ]
  },
  {
   "cell_type": "markdown",
   "metadata": {
    "id": "rxWgsZ4iU7V8"
   },
   "source": [
    "## Base Model performance was significantly well with 85 percent accuracy on the test set but precision and recall were not upto the mark,  there is a room for the improvement as there are many false predictions which can be seen on the confusion matrix , we will implement multilayered network with more layers."
   ]
  },
  {
   "cell_type": "markdown",
   "metadata": {
    "id": "6z8G-3t1WaVg"
   },
   "source": [
    "## Model2: Multilayered Dense Model with large hidden units Relu activation"
   ]
  },
  {
   "cell_type": "code",
   "execution_count": null,
   "metadata": {
    "colab": {
     "base_uri": "https://localhost:8080/"
    },
    "id": "NlMBOa-zXm59",
    "outputId": "a31c8270-23e4-4164-d29e-d46aa0a84920"
   },
   "outputs": [
    {
     "name": "stdout",
     "output_type": "stream",
     "text": [
      "Epoch 1/10\n",
      "375/375 [==============================] - 5s 12ms/step - loss: 1.3602 - accuracy: 0.6574 - val_loss: 0.6006 - val_accuracy: 0.8527\n",
      "Epoch 2/10\n",
      "375/375 [==============================] - 6s 16ms/step - loss: 0.4942 - accuracy: 0.8677 - val_loss: 0.3828 - val_accuracy: 0.8947\n",
      "Epoch 3/10\n",
      "375/375 [==============================] - 4s 12ms/step - loss: 0.3699 - accuracy: 0.8964 - val_loss: 0.3197 - val_accuracy: 0.9087\n",
      "Epoch 4/10\n",
      "375/375 [==============================] - 4s 11ms/step - loss: 0.3193 - accuracy: 0.9094 - val_loss: 0.2876 - val_accuracy: 0.9165\n",
      "Epoch 5/10\n",
      "375/375 [==============================] - 5s 14ms/step - loss: 0.2888 - accuracy: 0.9176 - val_loss: 0.2657 - val_accuracy: 0.9235\n",
      "Epoch 6/10\n",
      "375/375 [==============================] - 3s 7ms/step - loss: 0.2662 - accuracy: 0.9239 - val_loss: 0.2495 - val_accuracy: 0.9281\n",
      "Epoch 7/10\n",
      "375/375 [==============================] - 3s 8ms/step - loss: 0.2482 - accuracy: 0.9286 - val_loss: 0.2347 - val_accuracy: 0.9314\n",
      "Epoch 8/10\n",
      "375/375 [==============================] - 2s 7ms/step - loss: 0.2333 - accuracy: 0.9336 - val_loss: 0.2239 - val_accuracy: 0.9352\n",
      "Epoch 9/10\n",
      "375/375 [==============================] - 2s 7ms/step - loss: 0.2203 - accuracy: 0.9372 - val_loss: 0.2143 - val_accuracy: 0.9397\n",
      "Epoch 10/10\n",
      "375/375 [==============================] - 4s 10ms/step - loss: 0.2087 - accuracy: 0.9406 - val_loss: 0.2014 - val_accuracy: 0.9429\n"
     ]
    }
   ],
   "source": [
    "# define the model arctitecture\n",
    "model = models.Sequential()\n",
    "model.add(layers.Dense(256,activation='relu' , input_shape=(28*28,)))  # Flatten the 28x28 images into a 1D array\n",
    "\n",
    "# Dense layers\n",
    "model.add(layers.Dense(128, activation='relu'))\n",
    "model.add(layers.Dense(64, activation='relu'))\n",
    "model.add(layers.Dense(10, activation='softmax'))\n",
    "# Model Compilation\n",
    "model.compile(optimizer='sgd',\n",
    "              loss='categorical_crossentropy',\n",
    "              metrics=['accuracy'])\n",
    "# Model Training\n",
    "history = model.fit(train_images, train_labels, epochs=10, batch_size=128, validation_split=0.2)\n"
   ]
  },
  {
   "cell_type": "markdown",
   "metadata": {
    "id": "32y6P662ZjtF"
   },
   "source": [
    "## Hperparamter Tuning"
   ]
  },
  {
   "cell_type": "code",
   "execution_count": null,
   "metadata": {
    "id": "PD41PEgwn4Z_"
   },
   "outputs": [],
   "source": [
    "!pip install keras-tuner -q\n"
   ]
  },
  {
   "cell_type": "code",
   "execution_count": null,
   "metadata": {
    "id": "3Rg-LaYntrjH"
   },
   "outputs": [],
   "source": [
    "import tensorflow as tf\n",
    "from tensorflow.keras.datasets import mnist\n",
    "from tensorflow.keras.models import Sequential\n",
    "from tensorflow.keras.layers import Dense, Dropout\n",
    "from tensorflow.keras.optimizers import Adam\n",
    "from keras_tuner.tuners import RandomSearch\n",
    "from keras_tuner.engine.hyperparameters import HyperParameters\n",
    "\n",
    "from tensorflow.keras.models import load_model\n",
    "from sklearn.metrics import confusion_matrix\n",
    "import seaborn as sns\n",
    "import matplotlib.pyplot as plt\n",
    "import numpy as np\n"
   ]
  },
  {
   "cell_type": "code",
   "execution_count": null,
   "metadata": {
    "id": "szSII875uIqa"
   },
   "outputs": [],
   "source": [
    "# Load MNIST dataset\n",
    "(train_images, train_labels), (test_images, test_labels) = mnist.load_data()\n",
    "\n",
    "# Normalize pixel values between 0 and 1\n",
    "train_images = train_images / 255.0\n",
    "test_images = test_images / 255.0\n",
    "\n",
    "# Reshape data to be fed into a dense layer\n",
    "train_images = train_images.reshape((-1, 28 * 28))\n",
    "test_images = test_images.reshape((-1, 28 * 28))"
   ]
  },
  {
   "cell_type": "code",
   "execution_count": null,
   "metadata": {
    "id": "JoxJnzRSuKI_"
   },
   "outputs": [],
   "source": [
    "# Define the model-building function\n",
    "def build_model(hp):\n",
    "    model = Sequential()\n",
    "\n",
    "    # Tune the number of units in the first dense layer\n",
    "    model.add(Dense(units=hp.Int('units', min_value=32, max_value=512, step=32), activation='relu', input_shape=(28 * 28,)))\n",
    "\n",
    "    # Add dropout layer for regularization\n",
    "    model.add(Dropout(rate=hp.Float('dropout_rate', min_value=0.2, max_value=0.5, step=0.1)))\n",
    "\n",
    "    # Tune the number of units in the second dense layer\n",
    "    model.add(Dense(units=hp.Int('units_2', min_value=32, max_value=512, step=32), activation='relu'))\n",
    "\n",
    "    # Output layer with 10 units for 10 classes (0-9)\n",
    "    model.add(Dense(10, activation='softmax'))\n",
    "\n",
    "    # Compile the model\n",
    "    model.compile(optimizer=Adam(hp.Choice('learning_rate', values=[1e-2, 1e-3, 1e-4])), loss='sparse_categorical_crossentropy', metrics=['accuracy'])\n",
    "\n",
    "    return model"
   ]
  },
  {
   "cell_type": "code",
   "execution_count": null,
   "metadata": {
    "id": "1pBizVv3uQWu"
   },
   "outputs": [],
   "source": [
    "# Instantiate the RandomSearch tuner\n",
    "tuner = RandomSearch(build_model, objective='val_accuracy', max_trials=5, executions_per_trial=3, directory='tune_results', project_name='mnist_tuning')"
   ]
  },
  {
   "cell_type": "code",
   "execution_count": null,
   "metadata": {
    "colab": {
     "base_uri": "https://localhost:8080/"
    },
    "id": "7Fhk4jceuSxD",
    "outputId": "f68d87e7-a878-47ff-8cbf-20be6feb4c87"
   },
   "outputs": [
    {
     "name": "stdout",
     "output_type": "stream",
     "text": [
      "Trial 5 Complete [00h 01m 47s]\n",
      "val_accuracy: 0.9715833266576132\n",
      "\n",
      "Best val_accuracy So Far: 0.9778333306312561\n",
      "Total elapsed time: 00h 15m 29s\n"
     ]
    }
   ],
   "source": [
    "# Perform hyperparameter search\n",
    "tuner.search(train_images, train_labels, epochs=5, validation_split=0.2)"
   ]
  },
  {
   "cell_type": "code",
   "execution_count": null,
   "metadata": {
    "id": "_UytnisBuUFj"
   },
   "outputs": [],
   "source": [
    "# Get the best hyperparameters\n",
    "best_hps = tuner.get_best_hyperparameters(num_trials=1)[0]"
   ]
  },
  {
   "cell_type": "code",
   "execution_count": null,
   "metadata": {
    "id": "7JqnOckfuZxj"
   },
   "outputs": [],
   "source": [
    "# Build the model with the best hyperparameters\n",
    "model = tuner.hypermodel.build(best_hps)"
   ]
  },
  {
   "cell_type": "code",
   "execution_count": null,
   "metadata": {
    "colab": {
     "base_uri": "https://localhost:8080/"
    },
    "id": "d7O63-s6uanD",
    "outputId": "fd516601-6a47-4044-a979-a4148da6ce94"
   },
   "outputs": [
    {
     "name": "stdout",
     "output_type": "stream",
     "text": [
      "Epoch 1/10\n",
      "1500/1500 [==============================] - 17s 11ms/step - loss: 0.2358 - accuracy: 0.9279 - val_loss: 0.1087 - val_accuracy: 0.9664\n",
      "Epoch 2/10\n",
      "1500/1500 [==============================] - 14s 9ms/step - loss: 0.1089 - accuracy: 0.9661 - val_loss: 0.0995 - val_accuracy: 0.9687\n",
      "Epoch 3/10\n",
      "1500/1500 [==============================] - 14s 9ms/step - loss: 0.0835 - accuracy: 0.9739 - val_loss: 0.1027 - val_accuracy: 0.9715\n",
      "Epoch 4/10\n",
      "1500/1500 [==============================] - 15s 10ms/step - loss: 0.0660 - accuracy: 0.9791 - val_loss: 0.0971 - val_accuracy: 0.9732\n",
      "Epoch 5/10\n",
      "1500/1500 [==============================] - 14s 9ms/step - loss: 0.0552 - accuracy: 0.9825 - val_loss: 0.0887 - val_accuracy: 0.9756\n",
      "Epoch 6/10\n",
      "1500/1500 [==============================] - 14s 9ms/step - loss: 0.0492 - accuracy: 0.9839 - val_loss: 0.0944 - val_accuracy: 0.9742\n",
      "Epoch 7/10\n",
      "1500/1500 [==============================] - 14s 10ms/step - loss: 0.0419 - accuracy: 0.9862 - val_loss: 0.0886 - val_accuracy: 0.9782\n",
      "Epoch 8/10\n",
      "1500/1500 [==============================] - 14s 10ms/step - loss: 0.0393 - accuracy: 0.9874 - val_loss: 0.0940 - val_accuracy: 0.9766\n",
      "Epoch 9/10\n",
      "1500/1500 [==============================] - 17s 11ms/step - loss: 0.0362 - accuracy: 0.9880 - val_loss: 0.0909 - val_accuracy: 0.9790\n",
      "Epoch 10/10\n",
      "1500/1500 [==============================] - 23s 15ms/step - loss: 0.0318 - accuracy: 0.9896 - val_loss: 0.1019 - val_accuracy: 0.9788\n"
     ]
    },
    {
     "data": {
      "text/plain": [
       "<keras.src.callbacks.History at 0x7e7975373d60>"
      ]
     },
     "execution_count": 78,
     "metadata": {},
     "output_type": "execute_result"
    }
   ],
   "source": [
    "# Train the model with the best hyperparameters\n",
    "model.fit(train_images, train_labels, epochs=10, validation_split=0.2)"
   ]
  },
  {
   "cell_type": "code",
   "execution_count": null,
   "metadata": {
    "colab": {
     "base_uri": "https://localhost:8080/"
    },
    "id": "qfWUdCXfpOjd",
    "outputId": "007e668a-ec3b-4581-d0d5-6aeec687bf1e"
   },
   "outputs": [
    {
     "name": "stdout",
     "output_type": "stream",
     "text": [
      "313/313 [==============================] - 1s 4ms/step - loss: 0.0783 - accuracy: 0.9803\n",
      "Test accuracy: 0.9803000092506409\n"
     ]
    }
   ],
   "source": [
    "# Evaluate the model on test set\n",
    "test_loss, test_acc = model.evaluate(test_images, test_labels)\n",
    "print(f\"Test accuracy: {test_acc}\")"
   ]
  },
  {
   "cell_type": "code",
   "execution_count": null,
   "metadata": {
    "colab": {
     "base_uri": "https://localhost:8080/"
    },
    "id": "fd62WuyQycbi",
    "outputId": "8d6d9dea-999c-4e78-99ee-dcb6865f6138"
   },
   "outputs": [
    {
     "name": "stdout",
     "output_type": "stream",
     "text": [
      "Best Hyperparameters:\n",
      "Units: 384\n",
      "Dropout Rate: 0.2\n",
      "Units_2: 384\n",
      "Learning Rate: 0.001\n"
     ]
    }
   ],
   "source": [
    "# Print the values of the best hyperparameters\n",
    "print(\"Best Hyperparameters:\")\n",
    "print(f\"Units: {best_hps.get('units')}\")\n",
    "print(f\"Dropout Rate: {best_hps.get('dropout_rate')}\")\n",
    "print(f\"Units_2: {best_hps.get('units_2')}\")\n",
    "print(f\"Learning Rate: {best_hps.get('learning_rate')}\")"
   ]
  },
  {
   "cell_type": "code",
   "execution_count": null,
   "metadata": {
    "colab": {
     "base_uri": "https://localhost:8080/"
    },
    "id": "9FAbRVgi0Qx1",
    "outputId": "8bf12a2f-c935-4f63-bc80-f567d3ef51c2"
   },
   "outputs": [
    {
     "name": "stdout",
     "output_type": "stream",
     "text": [
      "313/313 [==============================] - 1s 4ms/step\n"
     ]
    }
   ],
   "source": [
    "# Predict probabilities for the test set\n",
    "predicted_probabilities = model.predict(test_images)"
   ]
  },
  {
   "cell_type": "code",
   "execution_count": null,
   "metadata": {
    "id": "VYd-9RLd0cwN"
   },
   "outputs": [],
   "source": [
    "# Get predicted labels by selecting the class with the highest probability\n",
    "predicted_labels = np.argmax(predicted_probabilities, axis=1)\n",
    "\n",
    "# Create the confusion matrix\n",
    "conf_matrix = confusion_matrix(test_labels, predicted_labels)"
   ]
  },
  {
   "cell_type": "code",
   "execution_count": null,
   "metadata": {
    "colab": {
     "base_uri": "https://localhost:8080/",
     "height": 564
    },
    "id": "5qYoEFSd0fkg",
    "outputId": "8f1bc133-8700-45fd-a06c-26882a65e5a0"
   },
   "outputs": [
    {
     "data": {
      "image/png": "[encoded data removed]",
      "text/plain": [
       "<Figure size 800x600 with 2 Axes>"
      ]
     },
     "metadata": {},
     "output_type": "display_data"
    }
   ],
   "source": [
    "# Plot the confusion matrix\n",
    "plt.figure(figsize=(8, 6))\n",
    "sns.heatmap(conf_matrix, annot=True, fmt='d', cmap='Blues', xticklabels=np.arange(10), yticklabels=np.arange(10))\n",
    "plt.xlabel('Predicted labels')\n",
    "plt.ylabel('True labels')\n",
    "plt.title('Confusion Matrix')\n",
    "plt.show()"
   ]
  },
  {
   "cell_type": "markdown",
   "metadata": {
    "id": "nJcQayCjkOG-"
   },
   "source": [
    "## Evaluation of the best Models"
   ]
  },
  {
   "cell_type": "code",
   "execution_count": null,
   "metadata": {
    "colab": {
     "base_uri": "https://localhost:8080/"
    },
    "id": "ML6ueJNSyx4f",
    "outputId": "49a6fbe8-adcc-41d9-d52d-08e758ed71a8"
   },
   "outputs": [
    {
     "name": "stdout",
     "output_type": "stream",
     "text": [
      "Model: \"sequential_1\"\n",
      "_________________________________________________________________\n",
      " Layer (type)                Output Shape              Param #   \n",
      "=================================================================\n",
      " dense_3 (Dense)             (None, 384)               301440    \n",
      "                                                                 \n",
      " dropout_1 (Dropout)         (None, 384)               0         \n",
      "                                                                 \n",
      " dense_4 (Dense)             (None, 384)               147840    \n",
      "                                                                 \n",
      " dense_5 (Dense)             (None, 10)                3850      \n",
      "                                                                 \n",
      "=================================================================\n",
      "Total params: 453130 (1.73 MB)\n",
      "Trainable params: 453130 (1.73 MB)\n",
      "Non-trainable params: 0 (0.00 Byte)\n",
      "_________________________________________________________________\n"
     ]
    }
   ],
   "source": [
    "model.summary()"
   ]
  },
  {
   "cell_type": "code",
   "execution_count": null,
   "metadata": {
    "id": "93acEb7gb4Bc"
   },
   "outputs": [],
   "source": [
    "# Save the best model\n",
    "model.save(\"best_model.h5\")"
   ]
  },
  {
   "cell_type": "markdown",
   "metadata": {
    "id": "kIlsvLbq1gj4"
   },
   "source": [
    "\n",
    "# **Results:**\n",
    "**Hyperparameter Tuning Results:**\n",
    "\n",
    "\n",
    "After conducting hyperparameter tuning using Random Search, the best validation accuracy achieved during the search was approximately **97.78%**.\n",
    "\n",
    "The final test accuracy after fine-tuning the model was found to be **98.03%**.\n",
    "\n",
    "**Best Hyperparameters:**\n",
    "- Units: 384\n",
    "- Dropout Rate: 0.2\n",
    "- Units_2: 384\n",
    "- Learning Rate: 0.001\n",
    "\n",
    "# **Conclusion:**\n",
    "The Random Search hyperparameter tuning technique successfully identified optimal hyperparameters for the neural network model used in classifying handwritten digits from the MNIST dataset. The best-performing model had a validation accuracy of **97.78%** and achieved a commendable test accuracy of **98.03%** after fine-tuning.\n",
    "\n",
    "The selected hyperparameters for the model configuration included **384** units in each of the two dense layers, a dropout rate of **0.2** for regularization, and a learning rate of **0.001** for the Adam optimizer.\n",
    "\n",
    "This outcome demonstrates the effectiveness of Random Search in efficiently exploring the hyperparameter space, leading to a significantly improved model accuracy for the task of handwritten digit classification."
   ]
  },
  {
   "cell_type": "code",
   "execution_count": null,
   "metadata": {
    "id": "-7WIwLHs1dki"
   },
   "outputs": [],
   "source": []
  }
 ],
 "metadata": {
  "colab": {
   "provenance": []
  },
  "kernelspec": {
   "display_name": "Python 3 (ipykernel)",
   "language": "python",
   "name": "python3"
  },
  "language_info": {
   "codemirror_mode": {
    "name": "ipython",
    "version": 3
   },
   "file_extension": ".py",
   "mimetype": "text/x-python",
   "name": "python",
   "nbconvert_exporter": "python",
   "pygments_lexer": "ipython3",
   "version": "3.9.18"
  }
 },
 "nbformat": 4,
 "nbformat_minor": 1
}
